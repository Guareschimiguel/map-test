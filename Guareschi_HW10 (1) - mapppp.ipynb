{
 "cells": [
  {
   "cell_type": "markdown",
   "id": "110798e5-95fa-4587-bb23-57420247fe3c",
   "metadata": {},
   "source": [
    "HW 10"
   ]
  },
  {
   "cell_type": "code",
   "execution_count": 2,
   "id": "7c9f48bc-2bf2-4911-86a8-063f77236325",
   "metadata": {},
   "outputs": [],
   "source": [
    "import geopandas as gpd\n",
    "from shapely.geometry import Point\n",
    "import folium"
   ]
  },
  {
   "cell_type": "code",
   "execution_count": 3,
   "id": "dda7c5de-19ce-4d32-b5cf-6294fd7d1f96",
   "metadata": {},
   "outputs": [
    {
     "name": "stderr",
     "output_type": "stream",
     "text": [
      "ERROR 1: PROJ: proj_create_from_database: Open of /opt/tljh/user/share/proj failed\n"
     ]
    },
    {
     "name": "stdout",
     "output_type": "stream",
     "text": [
      "epsg:4326\n",
      "epsg:4326\n"
     ]
    },
    {
     "data": {
      "text/html": [
       "<div>\n",
       "<style scoped>\n",
       "    .dataframe tbody tr th:only-of-type {\n",
       "        vertical-align: middle;\n",
       "    }\n",
       "\n",
       "    .dataframe tbody tr th {\n",
       "        vertical-align: top;\n",
       "    }\n",
       "\n",
       "    .dataframe thead th {\n",
       "        text-align: right;\n",
       "    }\n",
       "</style>\n",
       "<table border=\"1\" class=\"dataframe\">\n",
       "  <thead>\n",
       "    <tr style=\"text-align: right;\">\n",
       "      <th></th>\n",
       "      <th>OBJECTID</th>\n",
       "      <th>Area_Acres</th>\n",
       "      <th>Park_ID</th>\n",
       "      <th>CD_Real</th>\n",
       "      <th>Address</th>\n",
       "      <th>Region</th>\n",
       "      <th>Name</th>\n",
       "      <th>Park_Class</th>\n",
       "      <th>CD_NEW</th>\n",
       "      <th>TOOLTIP</th>\n",
       "      <th>ACRES</th>\n",
       "      <th>geometry</th>\n",
       "    </tr>\n",
       "  </thead>\n",
       "  <tbody>\n",
       "    <tr>\n",
       "      <th>0</th>\n",
       "      <td>1</td>\n",
       "      <td>8.433364</td>\n",
       "      <td>512</td>\n",
       "      <td>03</td>\n",
       "      <td>23751 Ingomar St</td>\n",
       "      <td>V</td>\n",
       "      <td>Lazy J Ranch Park</td>\n",
       "      <td>N</td>\n",
       "      <td>12</td>\n",
       "      <td>Name: Lazy J Ranch Park\\nLocation: 23751 Ingom...</td>\n",
       "      <td>8.4333635</td>\n",
       "      <td>POLYGON ((-118.64451 34.21238, -118.64451 34.2...</td>\n",
       "    </tr>\n",
       "    <tr>\n",
       "      <th>1</th>\n",
       "      <td>2</td>\n",
       "      <td>1.387374</td>\n",
       "      <td>883</td>\n",
       "      <td>15</td>\n",
       "      <td>Adjacent to Angels Gate Park at 3400 Gaffey St...</td>\n",
       "      <td>P</td>\n",
       "      <td>Lookout Point Park</td>\n",
       "      <td>N</td>\n",
       "      <td>15</td>\n",
       "      <td>Name: Lookout Point Park\\nLocation: Adjacent t...</td>\n",
       "      <td>1.38737377</td>\n",
       "      <td>POLYGON ((-118.29192 33.71197, -118.29192 33.7...</td>\n",
       "    </tr>\n",
       "    <tr>\n",
       "      <th>2</th>\n",
       "      <td>3</td>\n",
       "      <td>3.173861</td>\n",
       "      <td>320</td>\n",
       "      <td>15</td>\n",
       "      <td>1464 E 109th Street</td>\n",
       "      <td>P</td>\n",
       "      <td>109th Street Recreation Center</td>\n",
       "      <td>N</td>\n",
       "      <td>15</td>\n",
       "      <td>Name: 109th Street Recreation Center\\nLocation...</td>\n",
       "      <td>3.17386107</td>\n",
       "      <td>POLYGON ((-118.24925 33.93590, -118.24917 33.9...</td>\n",
       "    </tr>\n",
       "    <tr>\n",
       "      <th>3</th>\n",
       "      <td>4</td>\n",
       "      <td>0.154871</td>\n",
       "      <td>366</td>\n",
       "      <td>08</td>\n",
       "      <td>4726 8th Avenue</td>\n",
       "      <td>P</td>\n",
       "      <td>Angeles Mesa Park</td>\n",
       "      <td>N</td>\n",
       "      <td>8</td>\n",
       "      <td>Name: Angeles Mesa Park\\nLocation: 4726 8th Av...</td>\n",
       "      <td>0.1548711</td>\n",
       "      <td>POLYGON ((-118.32523 34.00014, -118.32523 34.0...</td>\n",
       "    </tr>\n",
       "    <tr>\n",
       "      <th>4</th>\n",
       "      <td>5</td>\n",
       "      <td>0.960725</td>\n",
       "      <td>213</td>\n",
       "      <td>09</td>\n",
       "      <td>4800 S. Hoover St</td>\n",
       "      <td>P</td>\n",
       "      <td>Julian C. Dixon Park</td>\n",
       "      <td>N</td>\n",
       "      <td>9</td>\n",
       "      <td>Name: Julian C. Dixon Park\\nLocation: 4800 S. ...</td>\n",
       "      <td>0.96072542</td>\n",
       "      <td>POLYGON ((-118.28680 33.99881, -118.28664 33.9...</td>\n",
       "    </tr>\n",
       "  </tbody>\n",
       "</table>\n",
       "</div>"
      ],
      "text/plain": [
       "   OBJECTID  Area_Acres Park_ID CD_Real  \\\n",
       "0         1    8.433364     512      03   \n",
       "1         2    1.387374     883      15   \n",
       "2         3    3.173861     320      15   \n",
       "3         4    0.154871     366      08   \n",
       "4         5    0.960725     213      09   \n",
       "\n",
       "                                             Address Region  \\\n",
       "0                                   23751 Ingomar St      V   \n",
       "1  Adjacent to Angels Gate Park at 3400 Gaffey St...      P   \n",
       "2                                1464 E 109th Street      P   \n",
       "3                                    4726 8th Avenue      P   \n",
       "4                                  4800 S. Hoover St      P   \n",
       "\n",
       "                             Name Park_Class CD_NEW  \\\n",
       "0               Lazy J Ranch Park          N     12   \n",
       "1              Lookout Point Park          N     15   \n",
       "2  109th Street Recreation Center          N     15   \n",
       "3               Angeles Mesa Park          N      8   \n",
       "4            Julian C. Dixon Park          N      9   \n",
       "\n",
       "                                             TOOLTIP       ACRES  \\\n",
       "0  Name: Lazy J Ranch Park\\nLocation: 23751 Ingom...   8.4333635   \n",
       "1  Name: Lookout Point Park\\nLocation: Adjacent t...  1.38737377   \n",
       "2  Name: 109th Street Recreation Center\\nLocation...  3.17386107   \n",
       "3  Name: Angeles Mesa Park\\nLocation: 4726 8th Av...   0.1548711   \n",
       "4  Name: Julian C. Dixon Park\\nLocation: 4800 S. ...  0.96072542   \n",
       "\n",
       "                                            geometry  \n",
       "0  POLYGON ((-118.64451 34.21238, -118.64451 34.2...  \n",
       "1  POLYGON ((-118.29192 33.71197, -118.29192 33.7...  \n",
       "2  POLYGON ((-118.24925 33.93590, -118.24917 33.9...  \n",
       "3  POLYGON ((-118.32523 34.00014, -118.32523 34.0...  \n",
       "4  POLYGON ((-118.28680 33.99881, -118.28664 33.9...  "
      ]
     },
     "execution_count": 3,
     "metadata": {},
     "output_type": "execute_result"
    }
   ],
   "source": [
    "schools = gpd.read_file('data/Schools_LAUSD.geojson')\n",
    "parks = gpd.read_file('data/Recreation_and_Parks.geojson')\n",
    "\n",
    "print(schools.crs)\n",
    "print(parks.crs)\n",
    "\n",
    "schools.head()\n",
    "parks.head()"
   ]
  },
  {
   "cell_type": "code",
   "execution_count": 4,
   "id": "e665a97d-7c67-4899-9b51-f95998ab1890",
   "metadata": {},
   "outputs": [],
   "source": [
    "schools = schools.to_crs(\"EPSG:3310\")\n",
    "parks = parks.to_crs(\"EPSG:3310\")\n",
    "\n",
    "schools['centroid'] = schools.centroid"
   ]
  },
  {
   "cell_type": "code",
   "execution_count": 6,
   "id": "e4fca8b9-aedf-404e-8b60-71e22d3e1544",
   "metadata": {},
   "outputs": [],
   "source": [
    "nearest_park = []\n",
    "for i in range(len(schools)):\n",
    "    distances = parks.distance(schools.loc[i, 'centroid'])\n",
    "    nearest_park_name = parks.loc[distances.idxmin(), 'Name']\n",
    "    nearest_park.append(nearest_park_name)\n",
    "\n",
    "schools['Nearest Park Name'] = nearest_park"
   ]
  },
  {
   "cell_type": "code",
   "execution_count": 8,
   "id": "3fb39084-8104-4689-a24b-6254984fbdbe",
   "metadata": {},
   "outputs": [],
   "source": [
    "map = folium.Map(location=[34.0522, -118.2437], zoom_start=11)"
   ]
  },
  {
   "cell_type": "code",
   "execution_count": 9,
   "id": "50612321-eb53-4c4a-ae58-80f8fb22fac7",
   "metadata": {},
   "outputs": [],
   "source": [
    "map.save('la_map.html')"
   ]
  },
  {
   "cell_type": "code",
   "execution_count": null,
   "id": "1b795e4e-80eb-4504-a754-be4de2667032",
   "metadata": {},
   "outputs": [],
   "source": []
  }
 ],
 "metadata": {
  "kernelspec": {
   "display_name": "Python 3 (ipykernel)",
   "language": "python",
   "name": "python3"
  },
  "language_info": {
   "codemirror_mode": {
    "name": "ipython",
    "version": 3
   },
   "file_extension": ".py",
   "mimetype": "text/x-python",
   "name": "python",
   "nbconvert_exporter": "python",
   "pygments_lexer": "ipython3",
   "version": "3.9.15"
  }
 },
 "nbformat": 4,
 "nbformat_minor": 5
}
